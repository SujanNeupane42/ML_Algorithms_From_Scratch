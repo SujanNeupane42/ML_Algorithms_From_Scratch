{
 "cells": [
  {
   "cell_type": "markdown",
   "metadata": {
    "id": "DM8Nr9JOU8Tx"
   },
   "source": [
    "WORKING MECHANISM OF K NEAREST NEIGHBORS\n",
    "\n",
    "  1. After loading the data, initialize the K to the choosen number of neighbors\n",
    "  2. For each sample in data, calculate the distance between the query example and the current example from the data. Then, add the distance and the index of the example to an ordered collection.\n",
    "\n",
    "  3. Sort the ordered collection of the distances and indices from smallest to largest (in ascending order ) by the distances.\n",
    "\n",
    "  4. Pick te first k entries from the sorted entries.\n",
    "\n",
    "  5. Get the labels\n",
    "\n",
    "  6. Finally, if the problem is classification, return the mode of k labels, otherwise return mean correpondingly, "
   ]
  },
  {
   "cell_type": "code",
   "execution_count": 8,
   "metadata": {
    "id": "S-a0EP0Xkv33"
   },
   "outputs": [],
   "source": [
    "from sklearn.datasets import load_iris\n",
    "from sklearn.preprocessing import StandardScaler\n",
    "from sklearn.linear_model import LogisticRegression\n",
    "from sklearn.metrics import classification_report\n",
    "import pandas as pd\n",
    "\n",
    "iris = load_iris()\n",
    "features = iris.data\n",
    "target = iris.target\n",
    "\n",
    "features = StandardScaler().fit_transform(features)\n",
    "X = pd.DataFrame(features)\n",
    "y = pd.Series(target)\n",
    "from sklearn.model_selection import train_test_split    # create a custom k-fold cross validation.. dont use train test split\n",
    "X_train,X_test,y_train,y_test = train_test_split(X,y,test_size=0.25, random_state = 42)"
   ]
  },
  {
   "cell_type": "code",
   "execution_count": 9,
   "metadata": {
    "id": "n9JZtMOBmQOw"
   },
   "outputs": [],
   "source": [
    "X_train.reset_index(drop = True, inplace = True)\n",
    "X_test.reset_index(drop = True, inplace = True)\n",
    "y_train.reset_index(drop = True, inplace = True)\n",
    "y_test.reset_index(drop = True, inplace = True)"
   ]
  },
  {
   "cell_type": "markdown",
   "metadata": {
    "id": "6u4VFPhYUYcn"
   },
   "source": [
    "# Custom KNN"
   ]
  },
  {
   "cell_type": "code",
   "execution_count": 13,
   "metadata": {
    "colab": {
     "base_uri": "https://localhost:8080/"
    },
    "id": "HAKruos8STle",
    "outputId": "fdbae6b2-98b4-44ce-f82e-198985802e47"
   },
   "outputs": [
    {
     "name": "stderr",
     "output_type": "stream",
     "text": [
      "100%|██████████| 38/38 [00:00<00:00, 424.64it/s]\n",
      "100%|██████████| 112/112 [00:00<00:00, 417.51it/s]"
     ]
    },
    {
     "name": "stdout",
     "output_type": "stream",
     "text": [
      "\n",
      "Final Training accuracy:  0.9553571428571429\n",
      "Final Testing accuracy:,  1.0\n",
      "              precision    recall  f1-score   support\n",
      "\n",
      "           0       1.00      1.00      1.00        15\n",
      "           1       1.00      1.00      1.00        11\n",
      "           2       1.00      1.00      1.00        12\n",
      "\n",
      "    accuracy                           1.00        38\n",
      "   macro avg       1.00      1.00      1.00        38\n",
      "weighted avg       1.00      1.00      1.00        38\n",
      "\n"
     ]
    },
    {
     "name": "stderr",
     "output_type": "stream",
     "text": [
      "\n"
     ]
    }
   ],
   "source": [
    "import statistics\n",
    "import collections\n",
    "import numpy as np\n",
    "from tqdm import tqdm\n",
    "\n",
    "class KNN:\n",
    "  def __init__(self, mode = 'Classification', n_neighbors = 5, p = 1):\n",
    "    self.mode = mode\n",
    "    self.n_neighbors = n_neighbors\n",
    "    self.p = p\n",
    "    # self.distances = []\n",
    "    # self.indexes = []\n",
    "    self.X_train = None\n",
    "    self.y_train = None\n",
    "  \n",
    "\n",
    "\n",
    "  def _accuracy(self, target, predictions):\n",
    "    accuracy = 0\n",
    "    for i in range(len(predictions)):\n",
    "      if (predictions[i] == target[i]):\n",
    "        accuracy += 1\n",
    "\n",
    "    return accuracy / len(target)\n",
    "  \n",
    "\n",
    "  def calculate_distance(self, vectorA, vectorB):\n",
    "    distance = 0\n",
    "    for i in range(len(vectorA)):\n",
    "      distance += abs(vectorA[i] - vectorB[i]) ** self.p\n",
    "    distance = distance ** (1 / self.p)\n",
    "    return distance\n",
    "\n",
    "  def get_nearest_neighbors(self, test_row, X):\n",
    "    distances = []\n",
    "    for i in range(len(X)):\n",
    "      distance_ = self.calculate_distance(test_row, X[i])\n",
    "      distances.append([X[i], distance_, i])\n",
    "    distances.sort(key = lambda x : x[1], reverse = False)\n",
    "    distances = distances[:self.n_neighbors]\n",
    "    return np.array([[list(i[0]), i[1], i[2]] for i in distances], dtype=object)\n",
    "    # return [list(x[0]) for x in distances][:self.n_neighbors]\n",
    "\n",
    "  def fit(self, X, y):\n",
    "    # 'Manhattan distance (p=1), Euclidean distance (p=2)'\n",
    "    distance = \"\"\n",
    "\n",
    "    if ((self.mode != 'Classification') and (self.mode != 'Regression')):\n",
    "      print('Please select a correct mode: Classification or regression')\n",
    "      quit()\n",
    "\n",
    "    if (self.p == 1):\n",
    "      distance = 'Manhattan'\n",
    "    elif self.p == 2:\n",
    "      distance = 'Euclidean'\n",
    "    else:\n",
    "      print('Only Manhattan(p=1) or Euclidean(p=2) distances available');quit()\n",
    "\n",
    "    # print('KNN(mode = ',self.mode,', n_neighbors = ',self.n_neighbors,', distance = ',distance,')')\n",
    "    self.X_train = X\n",
    "    self.y_train = y\n",
    "\n",
    "\n",
    "  def predict(self, X):\n",
    "    predictions = []\n",
    "    for i in tqdm(range(len(X))):\n",
    "      neighbouring_rows = self.get_nearest_neighbors(X.iloc[i].values, self.X_train.values)\n",
    "      value = list(y_train.loc[X_train.loc[neighbouring_rows[:,2]].index].values)\n",
    "      if self.mode == 'Classification': predictions.append(collections.Counter(value).most_common()[0][0]) # calculating mode\n",
    "      else: predictions.append(statistics.median(value))\n",
    "\n",
    "    return predictions\n",
    "\n",
    "obj = KNN(mode = 'Classification')\n",
    "obj.fit(X_train, y_train)\n",
    "preds = obj.predict(X_test)\n",
    "\n",
    "print(\"\\nFinal Training accuracy: \",obj._accuracy(y_train.values, obj.predict(X_train)))\n",
    "print(\"Final Testing accuracy:, \", obj._accuracy(y_test.values, preds))\n",
    "\n",
    "# print classification report\n",
    "print(classification_report(y_test, preds))"
   ]
  },
  {
   "cell_type": "code",
   "execution_count": 14,
   "metadata": {
    "colab": {
     "base_uri": "https://localhost:8080/"
    },
    "id": "aAzJaZFeZSHN",
    "outputId": "5cd04491-1ead-4503-c16d-e7c187cfb9f2"
   },
   "outputs": [
    {
     "data": {
      "text/plain": [
       "1.0"
      ]
     },
     "execution_count": 14,
     "metadata": {},
     "output_type": "execute_result"
    }
   ],
   "source": [
    "from sklearn.metrics import accuracy_score\n",
    "accuracy_score(y_test, preds)"
   ]
  },
  {
   "cell_type": "markdown",
   "metadata": {
    "id": "T018kAE7UbeH"
   },
   "source": [
    "# Sklearn KNN"
   ]
  },
  {
   "cell_type": "code",
   "execution_count": 18,
   "metadata": {
    "colab": {
     "base_uri": "https://localhost:8080/"
    },
    "id": "A0fXYBWcUCJv",
    "outputId": "7d3591d0-68ec-405e-b0a0-617fafda3900"
   },
   "outputs": [
    {
     "data": {
      "text/plain": [
       "1.0"
      ]
     },
     "execution_count": 18,
     "metadata": {},
     "output_type": "execute_result"
    }
   ],
   "source": [
    "from sklearn.neighbors import KNeighborsClassifier\n",
    "knn = KNeighborsClassifier(n_neighbors = 5)\n",
    "knn.fit(X_train, y_train)\n",
    "accuracy_score(y_test, knn.predict(X_test))"
   ]
  }
 ],
 "metadata": {
  "colab": {
   "collapsed_sections": [],
   "name": "KNN.ipynb",
   "provenance": []
  },
  "kernelspec": {
   "display_name": "Python 3",
   "language": "python",
   "name": "python3"
  },
  "language_info": {
   "codemirror_mode": {
    "name": "ipython",
    "version": 3
   },
   "file_extension": ".py",
   "mimetype": "text/x-python",
   "name": "python",
   "nbconvert_exporter": "python",
   "pygments_lexer": "ipython3",
   "version": "3.8.8"
  }
 },
 "nbformat": 4,
 "nbformat_minor": 1
}
